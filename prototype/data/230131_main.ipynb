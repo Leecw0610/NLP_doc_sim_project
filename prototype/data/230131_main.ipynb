{
 "cells": [
  {
   "cell_type": "markdown",
   "metadata": {},
   "source": [
    "## 1. 라이브러리"
   ]
  },
  {
   "cell_type": "code",
   "execution_count": 124,
   "metadata": {},
   "outputs": [],
   "source": [
    "\n",
    "import olefile\n",
    "import glob\n",
    "import pandas as pd\n",
    "import os\n",
    "from datetime import datetime as dt\n",
    "from sklearn.feature_extraction.text import TfidfVectorizer\n",
    "from sklearn.metrics.pairwise import linear_kernel\n",
    "import numpy as np\n"
   ]
  },
  {
   "attachments": {},
   "cell_type": "markdown",
   "metadata": {},
   "source": [
    "## 2. input 파트"
   ]
  },
  {
   "cell_type": "code",
   "execution_count": 125,
   "metadata": {},
   "outputs": [],
   "source": [
    "\n",
    "# '*'는 임의 길이의 모든 문자열을 의미\n",
    "flist = glob.glob('hwpdata/*.hwp')\n",
    "# 검사 문서\n",
    "target = 'target.hwp'\n",
    "# score 척도를 정할 변수를 base로 설정\n",
    "base = 0\n",
    "# empty dataframe 생성\n",
    "df = pd.DataFrame()\n",
    "# 파일 리스트에서 파일이름만 추출하여 리스트로 생성\n",
    "names = [os.path.basename(x) for x in flist]\n"
   ]
  },
  {
   "cell_type": "code",
   "execution_count": null,
   "metadata": {},
   "outputs": [],
   "source": [
    "print(flist)"
   ]
  },
  {
   "cell_type": "code",
   "execution_count": null,
   "metadata": {},
   "outputs": [],
   "source": [
    "print(names)"
   ]
  },
  {
   "cell_type": "code",
   "execution_count": null,
   "metadata": {},
   "outputs": [],
   "source": [
    "print(df)"
   ]
  },
  {
   "cell_type": "code",
   "execution_count": 126,
   "metadata": {},
   "outputs": [],
   "source": [
    "# 파일명을 title로 갖는 column생성\n",
    "df['title'] = names\n",
    "# 검사 문서의 df상 인덱스값을 index 변수에 저장\n",
    "index = df[df['title'] == target].index[0]\n",
    "# 빈 content 열 생성\n",
    "content = []\n",
    "# 코사인 유사도 항목 생성\n",
    "df['cos_sim'] = np.nan\n",
    "# 자카드 유사도 항목 생성\n",
    "df['jac_sim'] = np.nan"
   ]
  },
  {
   "cell_type": "code",
   "execution_count": 132,
   "metadata": {},
   "outputs": [
    {
     "name": "stdout",
     "output_type": "stream",
     "text": [
      "                                       title  cos_sim  jac_sim\n",
      "0                         1. 민원상담위원 모집공고.hwp      NaN      NaN\n",
      "1  1.전문임기제공무원(속기사, 마급) 경력경쟁채용시험 공고문(배포용).hwp      NaN      NaN\n",
      "2                                   qweq.hwp      NaN      NaN\n",
      "3                                 target.hwp      NaN      NaN\n"
     ]
    }
   ],
   "source": [
    "print(df)"
   ]
  },
  {
   "cell_type": "code",
   "execution_count": null,
   "metadata": {},
   "outputs": [],
   "source": [
    "print(index)"
   ]
  },
  {
   "cell_type": "code",
   "execution_count": null,
   "metadata": {},
   "outputs": [],
   "source": [
    "\n",
    "for file in flist :\n",
    "    # .hwp 파일을 읽기위해 olefile 임포트\n",
    "    f = olefile.OleFileIO(file)\n",
    "    # 읽어온 .hwp파일을 읽기 전용 파일 개체(BytesIO)로 encoded_text에 저장\n",
    "    encoded_text = f.openstream('PrvText').read()\n",
    "    # 읽기 전용 파일 개체를 'utf-16'방식으로 decoding\n",
    "    decoded_text = encoded_text.decode('UTF-16')\n",
    "    # decoding한 값을 content에 list 항목으로 저장\n",
    "    content.append(decoded_text)"
   ]
  },
  {
   "cell_type": "code",
   "execution_count": null,
   "metadata": {},
   "outputs": [],
   "source": [
    "# print(encoded_text)\n",
    "# print(decoded_text)\n",
    "print(content, sep='\\n')\n",
    "len(content)"
   ]
  },
  {
   "cell_type": "code",
   "execution_count": null,
   "metadata": {},
   "outputs": [],
   "source": [
    "df['content'] = content"
   ]
  },
  {
   "cell_type": "code",
   "execution_count": null,
   "metadata": {},
   "outputs": [],
   "source": [
    "df"
   ]
  },
  {
   "cell_type": "code",
   "execution_count": null,
   "metadata": {},
   "outputs": [],
   "source": [
    "df['content'][0]"
   ]
  },
  {
   "attachments": {},
   "cell_type": "markdown",
   "metadata": {},
   "source": [
    "## 3. 벡터화 및 유사도 측정"
   ]
  },
  {
   "cell_type": "code",
   "execution_count": null,
   "metadata": {},
   "outputs": [],
   "source": [
    "# 자연어를 벡터화하기 위한 Tf-idf 적용\n",
    "tfidf = TfidfVectorizer()\n",
    "tfidf_matrix = tfidf.fit_transform(df['content'])\n"
   ]
  },
  {
   "cell_type": "code",
   "execution_count": null,
   "metadata": {},
   "outputs": [],
   "source": [
    "type(tfidf_matrix)"
   ]
  },
  {
   "cell_type": "code",
   "execution_count": null,
   "metadata": {},
   "outputs": [],
   "source": [
    "# 문서의 각단어별로 문서에 대한 정보를 얼마나 갖고 있느냐를 뜻하는 값\n",
    "print(tfidf_matrix) #  (a,b)는 array로 만들었을 때 각 뒤에 나오는 tf-idf 값의 위치\n",
    "print(tfidf_matrix.shape)\n",
    "print(tfidf.get_feature_names_out())\n",
    "print(len(tfidf.get_feature_names_out()))"
   ]
  },
  {
   "attachments": {},
   "cell_type": "markdown",
   "metadata": {},
   "source": [
    "#### 3-1. 코사인 유사도"
   ]
  },
  {
   "cell_type": "code",
   "execution_count": 100,
   "metadata": {},
   "outputs": [],
   "source": [
    "cosine_sim = linear_kernel(tfidf_matrix, tfidf_matrix)"
   ]
  },
  {
   "cell_type": "code",
   "execution_count": 101,
   "metadata": {},
   "outputs": [
    {
     "name": "stdout",
     "output_type": "stream",
     "text": [
      "[[1.         0.05830587 0.05806165 0.05193522]\n",
      " [0.05830587 1.         0.01336071 0.12851837]\n",
      " [0.05806165 0.01336071 1.         0.03405808]\n",
      " [0.05193522 0.12851837 0.03405808 1.        ]]\n"
     ]
    }
   ],
   "source": [
    "print(cosine_sim)"
   ]
  },
  {
   "cell_type": "code",
   "execution_count": 102,
   "metadata": {},
   "outputs": [],
   "source": [
    "sim_scores = list(enumerate(cosine_sim[index]))\n"
   ]
  },
  {
   "cell_type": "code",
   "execution_count": 103,
   "metadata": {},
   "outputs": [
    {
     "name": "stdout",
     "output_type": "stream",
     "text": [
      "[(0, 0.05193521834770416), (1, 0.12851837004036096), (2, 0.03405808418379918), (3, 1.0)]\n"
     ]
    }
   ],
   "source": [
    "print(sim_scores)"
   ]
  },
  {
   "cell_type": "code",
   "execution_count": 107,
   "metadata": {},
   "outputs": [
    {
     "name": "stdout",
     "output_type": "stream",
     "text": [
      "target.hwp 1.0\n",
      "1.전문임기제공무원(속기사, 마급) 경력경쟁채용시험 공고문(배포용).hwp 0.12851837004036096\n",
      "1. 민원상담위원 모집공고.hwp 0.05193521834770416\n",
      "qweq.hwp 0.03405808418379918\n"
     ]
    }
   ],
   "source": [
    "sim_scores = sorted(sim_scores, key=lambda x:x[1], reverse=True)\n",
    "for key, score in sim_scores :\n",
    "    if score > base :\n",
    "        print(df.iloc[key]['title'], score)"
   ]
  },
  {
   "attachments": {},
   "cell_type": "markdown",
   "metadata": {},
   "source": [
    "-----------------------"
   ]
  },
  {
   "attachments": {},
   "cell_type": "markdown",
   "metadata": {},
   "source": [
    "#### 3-2. 자카드 유사도"
   ]
  },
  {
   "cell_type": "code",
   "execution_count": 70,
   "metadata": {},
   "outputs": [
    {
     "data": {
      "text/plain": [
       "0    서울중앙지방법원 공고 제 40호\\r\\n\\r\\n서울중앙지방법원 민원상담위원 모집 공고...\n",
       "1    서울중앙지방법원 공고 제2022 – 38호\\r\\n\\r\\n<전문임기제공무원(속기사, ...\n",
       "2    \\r\\n故 윤관 제12대 대법원장 법원장(法院葬] 절차 안내   \\r\\n\\r\\n20...\n",
       "3    서울중앙지방법원 공고 제2022 - 45호\\r\\n\\r\\n<전문임기제공무원(속기사, ...\n",
       "Name: content, dtype: object"
      ]
     },
     "execution_count": 70,
     "metadata": {},
     "output_type": "execute_result"
    }
   ],
   "source": [
    "df['content']"
   ]
  },
  {
   "cell_type": "code",
   "execution_count": 80,
   "metadata": {},
   "outputs": [
    {
     "data": {
      "text/plain": [
       "'0.6.0'"
      ]
     },
     "execution_count": 80,
     "metadata": {},
     "output_type": "execute_result"
    }
   ],
   "source": [
    "import konlpy\n",
    "konlpy.__version__"
   ]
  },
  {
   "cell_type": "code",
   "execution_count": 81,
   "metadata": {},
   "outputs": [],
   "source": [
    "from konlpy.tag import *\n",
    "\n",
    "okt = Okt()\n"
   ]
  },
  {
   "cell_type": "code",
   "execution_count": 82,
   "metadata": {},
   "outputs": [],
   "source": [
    "target = okt.morphs(df['content'][index])\n"
   ]
  },
  {
   "cell_type": "code",
   "execution_count": 115,
   "metadata": {},
   "outputs": [
    {
     "name": "stdout",
     "output_type": "stream",
     "text": [
      "1. 민원상담위원 모집공고.hwp 0.15845070422535212\n",
      "1.전문임기제공무원(속기사, 마급) 경력경쟁채용시험 공고문(배포용).hwp 0.27380952380952384\n",
      "qweq.hwp 0.07120743034055728\n",
      "target.hwp 1.0\n"
     ]
    }
   ],
   "source": [
    "for num_content in range(len(df)):\n",
    "    compare = okt.morphs(df['content'][num_content])\n",
    "    union = set(target).union(set(compare))\n",
    "    # print('문서1과 문서2의 합집합 :',union)\n",
    "    intersection = set(target).intersection(set(compare))\n",
    "    # print('문서1과 문서2의 교집합 :',intersection)\n",
    "    # print(f'{num_content}번 text와의 자카드 유사도 :',len(intersection)/len(union))\n",
    "    score = len(intersection)/len(union)\n",
    "    print(df.iloc[num_content]['title'], len(intersection)/len(union))\n"
   ]
  },
  {
   "cell_type": "code",
   "execution_count": 119,
   "metadata": {},
   "outputs": [
    {
     "data": {
      "text/html": [
       "<div>\n",
       "<style scoped>\n",
       "    .dataframe tbody tr th:only-of-type {\n",
       "        vertical-align: middle;\n",
       "    }\n",
       "\n",
       "    .dataframe tbody tr th {\n",
       "        vertical-align: top;\n",
       "    }\n",
       "\n",
       "    .dataframe thead th {\n",
       "        text-align: right;\n",
       "    }\n",
       "</style>\n",
       "<table border=\"1\" class=\"dataframe\">\n",
       "  <thead>\n",
       "    <tr style=\"text-align: right;\">\n",
       "      <th></th>\n",
       "      <th>title</th>\n",
       "      <th>content</th>\n",
       "    </tr>\n",
       "  </thead>\n",
       "  <tbody>\n",
       "    <tr>\n",
       "      <th>0</th>\n",
       "      <td>1. 민원상담위원 모집공고.hwp</td>\n",
       "      <td>서울중앙지방법원 공고 제 40호\\r\\n\\r\\n서울중앙지방법원 민원상담위원 모집 공고...</td>\n",
       "    </tr>\n",
       "    <tr>\n",
       "      <th>1</th>\n",
       "      <td>1.전문임기제공무원(속기사, 마급) 경력경쟁채용시험 공고문(배포용).hwp</td>\n",
       "      <td>서울중앙지방법원 공고 제2022 – 38호\\r\\n\\r\\n&lt;전문임기제공무원(속기사, ...</td>\n",
       "    </tr>\n",
       "    <tr>\n",
       "      <th>2</th>\n",
       "      <td>qweq.hwp</td>\n",
       "      <td>\\r\\n故 윤관 제12대 대법원장 법원장(法院葬] 절차 안내   \\r\\n\\r\\n20...</td>\n",
       "    </tr>\n",
       "    <tr>\n",
       "      <th>3</th>\n",
       "      <td>target.hwp</td>\n",
       "      <td>서울중앙지방법원 공고 제2022 - 45호\\r\\n\\r\\n&lt;전문임기제공무원(속기사, ...</td>\n",
       "    </tr>\n",
       "  </tbody>\n",
       "</table>\n",
       "</div>"
      ],
      "text/plain": [
       "                                       title  \\\n",
       "0                         1. 민원상담위원 모집공고.hwp   \n",
       "1  1.전문임기제공무원(속기사, 마급) 경력경쟁채용시험 공고문(배포용).hwp   \n",
       "2                                   qweq.hwp   \n",
       "3                                 target.hwp   \n",
       "\n",
       "                                             content  \n",
       "0  서울중앙지방법원 공고 제 40호\\r\\n\\r\\n서울중앙지방법원 민원상담위원 모집 공고...  \n",
       "1  서울중앙지방법원 공고 제2022 – 38호\\r\\n\\r\\n<전문임기제공무원(속기사, ...  \n",
       "2  \\r\\n故 윤관 제12대 대법원장 법원장(法院葬] 절차 안내   \\r\\n\\r\\n20...  \n",
       "3  서울중앙지방법원 공고 제2022 - 45호\\r\\n\\r\\n<전문임기제공무원(속기사, ...  "
      ]
     },
     "execution_count": 119,
     "metadata": {},
     "output_type": "execute_result"
    }
   ],
   "source": [
    "df"
   ]
  },
  {
   "cell_type": "markdown",
   "metadata": {},
   "source": [
    "------------"
   ]
  }
 ],
 "metadata": {
  "kernelspec": {
   "display_name": "base",
   "language": "python",
   "name": "python3"
  },
  "language_info": {
   "codemirror_mode": {
    "name": "ipython",
    "version": 3
   },
   "file_extension": ".py",
   "mimetype": "text/x-python",
   "name": "python",
   "nbconvert_exporter": "python",
   "pygments_lexer": "ipython3",
   "version": "3.9.12"
  },
  "orig_nbformat": 4,
  "vscode": {
   "interpreter": {
    "hash": "a077222d77dfe082b8f1dd562ad70e458ac2ab76993a0b248ab0476e32e9e8dd"
   }
  }
 },
 "nbformat": 4,
 "nbformat_minor": 2
}
