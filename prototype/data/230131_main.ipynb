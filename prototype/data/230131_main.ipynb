{
 "cells": [
  {
   "cell_type": "markdown",
   "metadata": {},
   "source": [
    "## 1. 라이브러리"
   ]
  },
  {
   "cell_type": "code",
   "execution_count": 1,
   "metadata": {},
   "outputs": [],
   "source": [
    "\n",
    "import olefile\n",
    "import glob\n",
    "import pandas as pd\n",
    "import os\n",
    "from datetime import datetime as dt\n",
    "from sklearn.feature_extraction.text import TfidfVectorizer, CountVectorizer\n",
    "from sklearn.metrics.pairwise import linear_kernel\n",
    "import numpy as np\n",
    "from sklearn.metrics.pairwise import euclidean_distances\n",
    "from konlpy.tag import Okt"
   ]
  },
  {
   "attachments": {},
   "cell_type": "markdown",
   "metadata": {},
   "source": [
    "## 2. INPUT 파트"
   ]
  },
  {
   "cell_type": "code",
   "execution_count": 2,
   "metadata": {
    "colab": {
     "base_uri": "https://localhost:8080/"
    },
    "executionInfo": {
     "elapsed": 42890,
     "status": "ok",
     "timestamp": 1675215998873,
     "user": {
      "displayName": "12 lab",
      "userId": "06841775990079946649"
     },
     "user_tz": -540
    },
    "id": "MFAR-JxiTXEZ",
    "outputId": "07744055-c172-4482-bdbd-df1230a984dc"
   },
   "outputs": [],
   "source": [
    "# !pip install olefile\n",
    "# !pip install docx\n",
    "# !pip install exceptions\n",
    "# !pip install python-pptx\n",
    "# !pip install python-docx\n",
    "# !pip install tika"
   ]
  },
  {
   "cell_type": "code",
   "execution_count": 3,
   "metadata": {
    "colab": {
     "base_uri": "https://localhost:8080/"
    },
    "executionInfo": {
     "elapsed": 9095,
     "status": "ok",
     "timestamp": 1675216015607,
     "user": {
      "displayName": "12 lab",
      "userId": "06841775990079946649"
     },
     "user_tz": -540
    },
    "id": "ph5nEEzgpryk",
    "outputId": "effd30a4-b7f4-473c-9344-cc0ddec722ad"
   },
   "outputs": [],
   "source": [
    "# connect google drive\n",
    "# from google.colab import drive\n",
    "# drive.mount('/content/drive')"
   ]
  },
  {
   "attachments": {},
   "cell_type": "markdown",
   "metadata": {
    "executionInfo": {
     "elapsed": 14,
     "status": "ok",
     "timestamp": 1675211762677,
     "user": {
      "displayName": "12 lab",
      "userId": "06841775990079946649"
     },
     "user_tz": -540
    },
    "id": "lDLiqRUbJrke"
   },
   "source": [
    "#### 2-1. hwp, pptx, docx, xls, csv, xlsx. pdf -> txt로 변환"
   ]
  },
  {
   "cell_type": "code",
   "execution_count": 4,
   "metadata": {
    "executionInfo": {
     "elapsed": 13,
     "status": "ok",
     "timestamp": 1675216017260,
     "user": {
      "displayName": "12 lab",
      "userId": "06841775990079946649"
     },
     "user_tz": -540
    },
    "id": "irb5b6OqZhA8"
   },
   "outputs": [],
   "source": [
    "#리스트 -> 문자열\n",
    "def listToString(str_list):\n",
    "    result = \"\"\n",
    "    for s in str_list:\n",
    "        result += s + \" \"\n",
    "    return result.strip()"
   ]
  },
  {
   "cell_type": "code",
   "execution_count": 5,
   "metadata": {
    "executionInfo": {
     "elapsed": 278,
     "status": "ok",
     "timestamp": 1675225349378,
     "user": {
      "displayName": "12 lab",
      "userId": "06841775990079946649"
     },
     "user_tz": -540
    },
    "id": "NtexFMtiNF26"
   },
   "outputs": [],
   "source": [
    "# 정규표현식 한글 남겨두고 특수문자, \\r\\n 제거하여 관련 정규문\n",
    "import re\n",
    "\n",
    "def remove_special_characters(text):\n",
    "    return re.sub(r'[^0-9a-zA-Z가-힣\\s\\r\\n]', '', text).strip()"
   ]
  },
  {
   "cell_type": "code",
   "execution_count": 6,
   "metadata": {},
   "outputs": [
    {
     "data": {
      "text/plain": [
       "'c:\\\\Users\\\\user\\\\Desktop\\\\Python\\\\Project\\\\Project3\\\\prototype\\\\data'"
      ]
     },
     "execution_count": 6,
     "metadata": {},
     "output_type": "execute_result"
    }
   ],
   "source": [
    "pwd"
   ]
  },
  {
   "cell_type": "code",
   "execution_count": 7,
   "metadata": {
    "colab": {
     "base_uri": "https://localhost:8080/"
    },
    "executionInfo": {
     "elapsed": 15068,
     "status": "ok",
     "timestamp": 1675216032316,
     "user": {
      "displayName": "12 lab",
      "userId": "06841775990079946649"
     },
     "user_tz": -540
    },
    "id": "2TP_rpd93uN4",
    "outputId": "0265ebfe-c345-4240-fc78-be846dcd5764"
   },
   "outputs": [],
   "source": [
    "target_path = input(\"검사하실 target문서의 directory경로를 입력하시요: \")\n",
    "compare_path = input(\"문서 뭉치 directory경로를 입력하시오: \")"
   ]
  },
  {
   "cell_type": "code",
   "execution_count": 8,
   "metadata": {
    "executionInfo": {
     "elapsed": 302,
     "status": "ok",
     "timestamp": 1675225449648,
     "user": {
      "displayName": "12 lab",
      "userId": "06841775990079946649"
     },
     "user_tz": -540
    },
    "id": "vvNWL_42nfbp"
   },
   "outputs": [],
   "source": [
    "#검사하실 target문서 directory 경로\n",
    "# hwp 확장자 dataFrame으로 변환\n",
    "filelist_hwp = glob.glob(f'{target_path}/'+'*.hwp')\n",
    "\n",
    "\n",
    "hwp_df = pd.DataFrame()\n",
    "hwp_df['title'] = np.nan\n",
    "names = [os.path.basename(x) for x in filelist_hwp]\n",
    "hwp_df['title'] = names\n",
    "\n",
    "\n",
    "content = []\n",
    "for file in filelist_hwp :\n",
    "    f = olefile.OleFileIO(file) #파일열기\n",
    "    encoded_text = f.openstream('PrvText').read() # PrvText 스트림의 내용 꺼내기\n",
    "    decoded_text = encoded_text.decode('UTF-16') # 유니코드를 UTF-16으로 디코딩\n",
    "    content.append(decoded_text)\n",
    "\n",
    "hwp_df['content'] = np.nan\n",
    "hwp_df['content'] = content\n",
    "hwp_df['extension'] = \"hwp\"\n",
    "\n",
    "# pptx 확장자 dataFrame으로 변환\n",
    "from pptx import Presentation\n",
    "filelist_pptx = glob.glob(f'{target_path}/'+'*.pptx')\n",
    "pptx_df = pd.DataFrame()\n",
    "names = [os.path.basename(x) for x in filelist_pptx]\n",
    "for i in filelist_pptx:\n",
    "  prs = Presentation(f\"{i}\")\n",
    "\n",
    "  \n",
    "\n",
    "  data = []\n",
    "  for slide in prs.slides:\n",
    "    \n",
    "    for shape in slide.shapes:\n",
    "        if not shape.has_text_frame:\n",
    "              continue\n",
    "        text_frame = shape.text_frame\n",
    "        for paragraph in text_frame.paragraphs:\n",
    "              for run in paragraph.runs:\n",
    "\n",
    "                  data.append(run.text)\n",
    "\n",
    "\n",
    "  pptx_df['title'] = np.nan\n",
    "  pptx_df['content'] = np.nan\n",
    "  pptx_df['extension'] = np.nan\n",
    "  pptx_df[\"content\"] = [listToString(data)]\n",
    "  pptx_df[\"title\"] = names          \n",
    "  pptx_df['extension'] = \"pptx\"\n",
    "\n",
    "# docx 확장자 dataFrame으로 변환\n",
    "import docx\n",
    "filelist_docx = glob.glob(f'{target_path}/'+'*.docx')\n",
    "docx_df = pd.DataFrame()\n",
    "names = [os.path.basename(x) for x in filelist_docx]\n",
    "docx_df['title'] = names\n",
    "def extract_text_from_docx(file):\n",
    "    doc = docx.Document(file)\n",
    "    full_text = []\n",
    "    for para in doc.paragraphs:\n",
    "        full_text.append(para.text)\n",
    "    return '\\n'.join(full_text)\n",
    "content = []\n",
    "for file in filelist_docx:\n",
    "    if file.endswith('.docx'):\n",
    "        extracted_text = extract_text_from_docx(file)\n",
    "        content.append(extracted_text)\n",
    "docx_df['content'] = content\n",
    "docx_df['extension'] = 'docx'\n",
    "\n",
    "\n",
    "# pdf 사용시 dataFrame으로 변환\n",
    "from tika import parser\n",
    "filelist_pdf = glob.glob(f'{target_path}/'+'*.pdf')\n",
    "names = [os.path.basename(x) for x in filelist_pdf]\n",
    "pdf_df = pd.DataFrame()\n",
    "\n",
    "pdf_df['title'] = np.nan\n",
    "pdf_df['title'] = listToString(names)\n",
    "\n",
    "pdf_df['content'] = np.nan\n",
    "content_list = []\n",
    "for i in filelist_pdf:\n",
    "  pdf_path = f\"{i}\"\n",
    "  parsed = parser.from_file(pdf_path)\n",
    "  txt = open('output.txt', 'w', encoding = 'utf-8')\n",
    "  # output.txt에 pdf파일 내용을 write\n",
    "  content_list.append(parsed['content'])\n",
    "\n",
    "  txt.close()\n",
    "pdf_df = pd.DataFrame([names,content_list])\n",
    "pdf_df = pdf_df.T\n",
    "pdf_df = pdf_df.rename(columns={0:'title'})\n",
    "pdf_df = pdf_df.rename(columns={1:'content'})\n",
    "pdf_df['extension'] = 'pdf'\n",
    "\n",
    "# xlsx 사용시 dataFrame으로 변환\n",
    "filelist_xlsx = glob.glob(f'{target_path}/'+'*.xlsx')\n",
    "names = [os.path.basename(x) for x in filelist_xlsx]\n",
    "csv_xlsx_df = pd.DataFrame()\n",
    "\n",
    "\n",
    "for i in filelist_xlsx:\n",
    "    csv_xlsx_df = pd.read_excel(f\"{i}\")\n",
    "\n",
    "full_text = []\n",
    "for column in csv_xlsx_df:\n",
    "    for item in csv_xlsx_df[column]:\n",
    "\n",
    "        full_text.append(str(item))\n",
    "csv_xlsx_df = csv_xlsx_df.head(1)\n",
    "\n",
    "csv_xlsx_df['title'] = np.nan\n",
    "csv_xlsx_df['title'] = listToString(names)\n",
    "csv_xlsx_df['content'] = listToString(full_text)\n",
    "csv_xlsx_df['extension'] = 'csv'\n",
    "csv_xlsx_df = csv_xlsx_df[['title','content','extension']]"
   ]
  },
  {
   "cell_type": "code",
   "execution_count": 9,
   "metadata": {
    "executionInfo": {
     "elapsed": 306,
     "status": "ok",
     "timestamp": 1675217471876,
     "user": {
      "displayName": "12 lab",
      "userId": "06841775990079946649"
     },
     "user_tz": -540
    },
    "id": "deqmvbVFnmYc"
   },
   "outputs": [],
   "source": [
    "df_target_merged = pd.concat([hwp_df, pptx_df, docx_df,pdf_df,csv_xlsx_df])\n",
    "df_target_merged = df_target_merged.reset_index()\n",
    "df_target_merged = df_target_merged.drop(['index'],axis=1)"
   ]
  },
  {
   "cell_type": "code",
   "execution_count": 10,
   "metadata": {
    "executionInfo": {
     "elapsed": 5,
     "status": "ok",
     "timestamp": 1675225664413,
     "user": {
      "displayName": "12 lab",
      "userId": "06841775990079946649"
     },
     "user_tz": -540
    },
    "id": "Kof5njfCoYDR"
   },
   "outputs": [],
   "source": [
    "for i in range(len(df_target_merged['content'])):\n",
    "  df_target_merged['content'].loc[i] = remove_special_characters(df_target_merged['content'].loc[i])"
   ]
  },
  {
   "cell_type": "code",
   "execution_count": 11,
   "metadata": {
    "colab": {
     "base_uri": "https://localhost:8080/",
     "height": 81
    },
    "executionInfo": {
     "elapsed": 559,
     "status": "ok",
     "timestamp": 1675225667126,
     "user": {
      "displayName": "12 lab",
      "userId": "06841775990079946649"
     },
     "user_tz": -540
    },
    "id": "C3aIbC_gOZZU",
    "outputId": "f5a8dbb7-124d-4faa-8c62-cd88af70ff1d"
   },
   "outputs": [
    {
     "data": {
      "text/html": [
       "<div>\n",
       "<style scoped>\n",
       "    .dataframe tbody tr th:only-of-type {\n",
       "        vertical-align: middle;\n",
       "    }\n",
       "\n",
       "    .dataframe tbody tr th {\n",
       "        vertical-align: top;\n",
       "    }\n",
       "\n",
       "    .dataframe thead th {\n",
       "        text-align: right;\n",
       "    }\n",
       "</style>\n",
       "<table border=\"1\" class=\"dataframe\">\n",
       "  <thead>\n",
       "    <tr style=\"text-align: right;\">\n",
       "      <th></th>\n",
       "      <th>title</th>\n",
       "      <th>content</th>\n",
       "      <th>extension</th>\n",
       "    </tr>\n",
       "  </thead>\n",
       "  <tbody>\n",
       "    <tr>\n",
       "      <th>0</th>\n",
       "      <td>제목 없는 문서 (2).docx</td>\n",
       "      <td>Apple Inc는 소비자 전자 제품 컴퓨터 소프트웨어 및 온라인 서비스를 설계 개...</td>\n",
       "      <td>docx</td>\n",
       "    </tr>\n",
       "    <tr>\n",
       "      <th>1</th>\n",
       "      <td>제목 없는 문서 (3).docx</td>\n",
       "      <td>카드는 정보나 데이터를 저장하는 데 사용되는 얇고 평평한 재료입니다 카드는 종이 플...</td>\n",
       "      <td>docx</td>\n",
       "    </tr>\n",
       "  </tbody>\n",
       "</table>\n",
       "</div>"
      ],
      "text/plain": [
       "               title                                            content  \\\n",
       "0  제목 없는 문서 (2).docx  Apple Inc는 소비자 전자 제품 컴퓨터 소프트웨어 및 온라인 서비스를 설계 개...   \n",
       "1  제목 없는 문서 (3).docx  카드는 정보나 데이터를 저장하는 데 사용되는 얇고 평평한 재료입니다 카드는 종이 플...   \n",
       "\n",
       "  extension  \n",
       "0      docx  \n",
       "1      docx  "
      ]
     },
     "execution_count": 11,
     "metadata": {},
     "output_type": "execute_result"
    }
   ],
   "source": [
    "df_target_merged"
   ]
  },
  {
   "cell_type": "code",
   "execution_count": 12,
   "metadata": {
    "executionInfo": {
     "elapsed": 1274,
     "status": "ok",
     "timestamp": 1675225615652,
     "user": {
      "displayName": "12 lab",
      "userId": "06841775990079946649"
     },
     "user_tz": -540
    },
    "id": "aG2drlEeSrZq"
   },
   "outputs": [],
   "source": [
    "#비교 대상 문서 directory 경로\n",
    "# hwp 확장자 dataFrame으로 변환\n",
    "filelist_hwp = glob.glob(f'{compare_path}/'+'*.hwp')\n",
    "\n",
    "\n",
    "hwp_df = pd.DataFrame()\n",
    "hwp_df['title'] = np.nan\n",
    "names = [os.path.basename(x) for x in filelist_hwp]\n",
    "hwp_df['title'] = names\n",
    "\n",
    "\n",
    "content = []\n",
    "for file in filelist_hwp :\n",
    "    f = olefile.OleFileIO(file) #파일열기\n",
    "    encoded_text = f.openstream('PrvText').read() # PrvText 스트림의 내용 꺼내기\n",
    "    decoded_text = encoded_text.decode('UTF-16') # 유니코드를 UTF-16으로 디코딩\n",
    "    content.append(decoded_text)\n",
    "\n",
    "hwp_df['content'] = np.nan\n",
    "hwp_df['content'] = content\n",
    "hwp_df['extension'] = \"hwp\"\n",
    "\n",
    "# pptx 확장자 dataFrame으로 변환\n",
    "from pptx import Presentation\n",
    "filelist_pptx = glob.glob(f'{compare_path}/'+'*.pptx')\n",
    "pptx_df = pd.DataFrame()\n",
    "names = [os.path.basename(x) for x in filelist_pptx]\n",
    "for i in filelist_pptx:\n",
    "    prs = Presentation(f\"{i}\")\n",
    "\n",
    "\n",
    "\n",
    "    data = []\n",
    "    for slide in prs.slides:\n",
    "\n",
    "        for shape in slide.shapes:\n",
    "            if not shape.has_text_frame:\n",
    "                continue\n",
    "            text_frame = shape.text_frame\n",
    "            for paragraph in text_frame.paragraphs:\n",
    "                for run in paragraph.runs:\n",
    "\n",
    "                    data.append(run.text)\n",
    "\n",
    "\n",
    "    pptx_df['title'] = np.nan\n",
    "    pptx_df['content'] = np.nan\n",
    "    pptx_df['extension'] = np.nan\n",
    "    pptx_df[\"content\"] = [listToString(data)]\n",
    "    pptx_df[\"title\"] = names\n",
    "    pptx_df['extension'] = \"pptx\"\n",
    "\n",
    "# docx 확장자 dataFrame으로 변환\n",
    "import docx\n",
    "filelist_docx = glob.glob(f'{compare_path}/'+'*.docx')\n",
    "# target = 'target.docx'\n",
    "# base = 0\n",
    "docx_df = pd.DataFrame()\n",
    "names = [os.path.basename(x) for x in filelist_docx]\n",
    "docx_df['title'] = names\n",
    "# index = df[df['title'] == target].index[0]\n",
    "def extract_text_from_docx(file):\n",
    "    doc = docx.Document(file)\n",
    "    full_text = []\n",
    "    for para in doc.paragraphs:\n",
    "        full_text.append(para.text)\n",
    "    return '\\n'.join(full_text)\n",
    "content = []\n",
    "for file in filelist_docx:\n",
    "    if file.endswith('.docx'):\n",
    "        extracted_text = extract_text_from_docx(file)\n",
    "        content.append(extracted_text)\n",
    "docx_df['content'] = content\n",
    "docx_df['extension'] = 'docx'\n",
    "\n",
    "# # xls 사용시 dataFrame으로 변환\n",
    "# filelist_xlsx = glob.glob(f'{compare_path}/'+'*.xls')\n",
    "# names = [os.path.basename(x) for x in filelist_xlsx]\n",
    "# csv_df = pd.DataFrame()\n",
    "\n",
    "# full_text = []\n",
    "\n",
    "# for i in filelist_xlsx:\n",
    "#     csv_df = pd.read_csv(f\"{i}\")\n",
    "\n",
    "# for column in csv_df:\n",
    "#     for item in csv_df[column]:\n",
    "\n",
    "#         full_text.append(str(item))\n",
    "\n",
    "\n",
    "\n",
    "# csv_df['title'] = np.nan\n",
    "# csv_df['title'] = listToString(names)\n",
    "# csv_df['content'] = listToString(full_text)\n",
    "# csv_df['extension'] = 'csv'\n",
    "# csv_df = pd.DataFrame((csv_df[['title','content','extension']].iloc[len(filelist_xlsx) -1])).T\n",
    "\n",
    "# pdf 사용시 dataFrame으로 변환\n",
    "from tika import parser\n",
    "filelist_pdf = glob.glob(f'{compare_path}/'+'*.pdf')\n",
    "names = [os.path.basename(x) for x in filelist_pdf]\n",
    "pdf_df = pd.DataFrame()\n",
    "\n",
    "pdf_df['title'] = np.nan\n",
    "pdf_df['title'] = listToString(names)\n",
    "\n",
    "pdf_df['content'] = np.nan\n",
    "content_list = []\n",
    "for i in filelist_pdf:\n",
    "    pdf_path = f\"{i}\"\n",
    "    parsed = parser.from_file(pdf_path)\n",
    "    txt = open('output.txt', 'w', encoding = 'utf-8')\n",
    "    # output.txt에 pdf파일 내용을 write\n",
    "    content_list.append(parsed['content'])\n",
    "\n",
    "    txt.close()\n",
    "pdf_df = pd.DataFrame([names,content_list])\n",
    "pdf_df = pdf_df.T\n",
    "pdf_df = pdf_df.rename(columns={0:'title'})\n",
    "pdf_df = pdf_df.rename(columns={1:'content'})\n",
    "pdf_df['extension'] = 'pdf'\n",
    "\n",
    "# # xlsx 사용시 dataFrame으로 변환\n",
    "# filelist_xlsx = glob.glob(f'{compare_path}/'+'*.xlsx')\n",
    "# names = [os.path.basename(x) for x in filelist_xlsx]\n",
    "# csv_xlsx_df = pd.DataFrame()\n",
    "\n",
    "\n",
    "# for i in filelist_xlsx:\n",
    "#     csv_xlsx_df = pd.read_excel(f\"{i}\")\n",
    "\n",
    "# full_text = []\n",
    "# for column in csv_df:\n",
    "#     for item in csv_df[column]:\n",
    "\n",
    "#         full_text.append(str(item))\n",
    "\n",
    "\n",
    "\n",
    "# csv_xlsx_df['title'] = np.nan\n",
    "# csv_xlsx_df['title'] = listToString(names)\n",
    "# csv_xlsx_df['content'] = listToString(full_text)\n",
    "# csv_xlsx_df['extension'] = 'csv'\n",
    "# csv_xlsx_df = pd.DataFrame((csv_df[['title','content','extension']].iloc[len(filelist_xlsx) -1])).T"
   ]
  },
  {
   "cell_type": "code",
   "execution_count": 13,
   "metadata": {
    "executionInfo": {
     "elapsed": 7,
     "status": "ok",
     "timestamp": 1675225615654,
     "user": {
      "displayName": "12 lab",
      "userId": "06841775990079946649"
     },
     "user_tz": -540
    },
    "id": "-qsJALHOZ-wY"
   },
   "outputs": [],
   "source": [
    "df_compare_merged = pd.concat([hwp_df, docx_df, pptx_df,pdf_df])\n",
    "df_compare_merged = df_compare_merged.reset_index()\n",
    "df_compare_merged = df_compare_merged.drop(['index'],axis=1)\n",
    "for i in range(len(df_compare_merged['content'])):\n",
    "  df_compare_merged['content'].loc[i] = remove_special_characters(df_compare_merged['content'].loc[i])"
   ]
  },
  {
   "cell_type": "code",
   "execution_count": 14,
   "metadata": {
    "colab": {
     "base_uri": "https://localhost:8080/",
     "height": 457
    },
    "executionInfo": {
     "elapsed": 290,
     "status": "ok",
     "timestamp": 1675225672015,
     "user": {
      "displayName": "12 lab",
      "userId": "06841775990079946649"
     },
     "user_tz": -540
    },
    "id": "aeF2PalcMgg_",
    "outputId": "0e304b73-20cf-4a5f-b0e1-1816983deb0e"
   },
   "outputs": [],
   "source": [
    "df = df_compare_merged"
   ]
  },
  {
   "cell_type": "code",
   "execution_count": 15,
   "metadata": {},
   "outputs": [],
   "source": [
    "\n",
    "# '*'는 임의 길이의 모든 문자열을 의미\n",
    "# flist = glob.glob('hwpdata/*.hwp')\n",
    "# 검사 문서 지정\n",
    "target = '제목 없는 문서 (2).docx'\n",
    "# score 척도를 정할 변수를 base로 설정 (ex>표절판별수치 등으로 이용)\n",
    "base = 0\n",
    "# empty dataframe 생성\n",
    "# df = pd.DataFrame()\n",
    "# 파일 리스트에서 파일이름만 추출하여 리스트로 생성\n",
    "# names = [os.path.basename(x) for x in flist]\n"
   ]
  },
  {
   "cell_type": "code",
   "execution_count": 16,
   "metadata": {},
   "outputs": [
    {
     "data": {
      "text/html": [
       "<div>\n",
       "<style scoped>\n",
       "    .dataframe tbody tr th:only-of-type {\n",
       "        vertical-align: middle;\n",
       "    }\n",
       "\n",
       "    .dataframe tbody tr th {\n",
       "        vertical-align: top;\n",
       "    }\n",
       "\n",
       "    .dataframe thead th {\n",
       "        text-align: right;\n",
       "    }\n",
       "</style>\n",
       "<table border=\"1\" class=\"dataframe\">\n",
       "  <thead>\n",
       "    <tr style=\"text-align: right;\">\n",
       "      <th></th>\n",
       "      <th>title</th>\n",
       "      <th>content</th>\n",
       "      <th>extension</th>\n",
       "    </tr>\n",
       "  </thead>\n",
       "  <tbody>\n",
       "    <tr>\n",
       "      <th>0</th>\n",
       "      <td>제목 없는 문서 (2).docx</td>\n",
       "      <td>Apple Inc는 소비자 전자 제품 컴퓨터 소프트웨어 및 온라인 서비스를 설계 개...</td>\n",
       "      <td>docx</td>\n",
       "    </tr>\n",
       "    <tr>\n",
       "      <th>1</th>\n",
       "      <td>제목 없는 문서 (3).docx</td>\n",
       "      <td>카드는 정보나 데이터를 저장하는 데 사용되는 얇고 평평한 재료입니다 카드는 종이 플...</td>\n",
       "      <td>docx</td>\n",
       "    </tr>\n",
       "  </tbody>\n",
       "</table>\n",
       "</div>"
      ],
      "text/plain": [
       "               title                                            content  \\\n",
       "0  제목 없는 문서 (2).docx  Apple Inc는 소비자 전자 제품 컴퓨터 소프트웨어 및 온라인 서비스를 설계 개...   \n",
       "1  제목 없는 문서 (3).docx  카드는 정보나 데이터를 저장하는 데 사용되는 얇고 평평한 재료입니다 카드는 종이 플...   \n",
       "\n",
       "  extension  \n",
       "0      docx  \n",
       "1      docx  "
      ]
     },
     "execution_count": 16,
     "metadata": {},
     "output_type": "execute_result"
    }
   ],
   "source": [
    "df"
   ]
  },
  {
   "cell_type": "code",
   "execution_count": 17,
   "metadata": {},
   "outputs": [],
   "source": [
    "# 파일명을 title로 갖는 column생성\n",
    "# df['title'] = names\n",
    "# 검사 문서의 df상 인덱스값을 index 변수에 저장\n",
    "index = df[df['title'] == target].index[0]\n",
    "# 빈 content 열 생성\n",
    "# content = []\n",
    "# 코사인 유사도 항목 생성\n",
    "df['cos_sim'] = np.nan\n",
    "# 유클리드 거리 항목 생성\n",
    "df['euc_dis'] = np.nan\n",
    "# 자카드 유사도 항목 생성\n",
    "df['jac_sim'] = np.nan"
   ]
  },
  {
   "cell_type": "code",
   "execution_count": 18,
   "metadata": {},
   "outputs": [
    {
     "data": {
      "text/html": [
       "<div>\n",
       "<style scoped>\n",
       "    .dataframe tbody tr th:only-of-type {\n",
       "        vertical-align: middle;\n",
       "    }\n",
       "\n",
       "    .dataframe tbody tr th {\n",
       "        vertical-align: top;\n",
       "    }\n",
       "\n",
       "    .dataframe thead th {\n",
       "        text-align: right;\n",
       "    }\n",
       "</style>\n",
       "<table border=\"1\" class=\"dataframe\">\n",
       "  <thead>\n",
       "    <tr style=\"text-align: right;\">\n",
       "      <th></th>\n",
       "      <th>title</th>\n",
       "      <th>content</th>\n",
       "      <th>extension</th>\n",
       "      <th>cos_sim</th>\n",
       "      <th>euc_dis</th>\n",
       "      <th>jac_sim</th>\n",
       "    </tr>\n",
       "  </thead>\n",
       "  <tbody>\n",
       "    <tr>\n",
       "      <th>0</th>\n",
       "      <td>제목 없는 문서 (2).docx</td>\n",
       "      <td>Apple Inc는 소비자 전자 제품 컴퓨터 소프트웨어 및 온라인 서비스를 설계 개...</td>\n",
       "      <td>docx</td>\n",
       "      <td>NaN</td>\n",
       "      <td>NaN</td>\n",
       "      <td>NaN</td>\n",
       "    </tr>\n",
       "    <tr>\n",
       "      <th>1</th>\n",
       "      <td>제목 없는 문서 (3).docx</td>\n",
       "      <td>카드는 정보나 데이터를 저장하는 데 사용되는 얇고 평평한 재료입니다 카드는 종이 플...</td>\n",
       "      <td>docx</td>\n",
       "      <td>NaN</td>\n",
       "      <td>NaN</td>\n",
       "      <td>NaN</td>\n",
       "    </tr>\n",
       "  </tbody>\n",
       "</table>\n",
       "</div>"
      ],
      "text/plain": [
       "               title                                            content  \\\n",
       "0  제목 없는 문서 (2).docx  Apple Inc는 소비자 전자 제품 컴퓨터 소프트웨어 및 온라인 서비스를 설계 개...   \n",
       "1  제목 없는 문서 (3).docx  카드는 정보나 데이터를 저장하는 데 사용되는 얇고 평평한 재료입니다 카드는 종이 플...   \n",
       "\n",
       "  extension  cos_sim  euc_dis  jac_sim  \n",
       "0      docx      NaN      NaN      NaN  \n",
       "1      docx      NaN      NaN      NaN  "
      ]
     },
     "execution_count": 18,
     "metadata": {},
     "output_type": "execute_result"
    }
   ],
   "source": [
    "df"
   ]
  },
  {
   "cell_type": "code",
   "execution_count": 19,
   "metadata": {},
   "outputs": [],
   "source": [
    "\n",
    "# for file in flist :\n",
    "#     # .hwp 파일을 읽기위해 olefile 임포트\n",
    "#     f = olefile.OleFileIO(file)\n",
    "#     # 읽어온 .hwp파일을 읽기 전용 파일 개체(BytesIO)로 encoded_text에 저장\n",
    "#     encoded_text = f.openstream('PrvText').read()\n",
    "#     # 읽기 전용 파일 개체를 'utf-16'방식으로 decoding\n",
    "#     decoded_text = encoded_text.decode('UTF-16')\n",
    "#     # decoding한 값을 content에 list 항목으로 저장\n",
    "#     content.append(decoded_text)"
   ]
  },
  {
   "cell_type": "code",
   "execution_count": 20,
   "metadata": {},
   "outputs": [],
   "source": [
    "# df['content'] = content"
   ]
  },
  {
   "cell_type": "code",
   "execution_count": 21,
   "metadata": {},
   "outputs": [],
   "source": [
    "# df"
   ]
  },
  {
   "cell_type": "code",
   "execution_count": 22,
   "metadata": {},
   "outputs": [],
   "source": [
    "# df['content'][0]"
   ]
  },
  {
   "attachments": {},
   "cell_type": "markdown",
   "metadata": {},
   "source": [
    "## 3. 벡터화 및 유사도 측정"
   ]
  },
  {
   "cell_type": "code",
   "execution_count": 23,
   "metadata": {},
   "outputs": [],
   "source": [
    "# 자연어를 벡터화하기 위한 Tf-idf 적용\n",
    "tfidf = TfidfVectorizer()\n",
    "tfidf_matrix = tfidf.fit_transform(df['content'])\n"
   ]
  },
  {
   "cell_type": "code",
   "execution_count": 24,
   "metadata": {},
   "outputs": [
    {
     "name": "stdout",
     "output_type": "stream",
     "text": [
      "  (0, 22)\t0.08768895655734549\n",
      "  (0, 93)\t0.08768895655734549\n",
      "  (0, 128)\t0.08768895655734549\n",
      "  (0, 21)\t0.062391414807429685\n",
      "  (0, 52)\t0.062391414807429685\n",
      "  (0, 76)\t0.062391414807429685\n",
      "  (0, 80)\t0.062391414807429685\n",
      "  (0, 70)\t0.062391414807429685\n",
      "  (0, 120)\t0.062391414807429685\n",
      "  (0, 48)\t0.062391414807429685\n",
      "  (0, 5)\t0.08768895655734549\n",
      "  (0, 0)\t0.17537791311469098\n",
      "  (0, 18)\t0.26306686967203646\n",
      "  (0, 66)\t0.08768895655734549\n",
      "  (0, 105)\t0.08768895655734549\n",
      "  (0, 63)\t0.08768895655734549\n",
      "  (0, 109)\t0.08768895655734549\n",
      "  (0, 7)\t0.08768895655734549\n",
      "  (0, 14)\t0.08768895655734549\n",
      "  (0, 57)\t0.08768895655734549\n",
      "  (0, 17)\t0.08768895655734549\n",
      "  (0, 13)\t0.17537791311469098\n",
      "  (0, 110)\t0.08768895655734549\n",
      "  (0, 85)\t0.08768895655734549\n",
      "  (0, 9)\t0.17537791311469098\n",
      "  :\t:\n",
      "  (1, 84)\t0.07579892499568072\n",
      "  (1, 41)\t0.07579892499568072\n",
      "  (1, 92)\t0.07579892499568072\n",
      "  (1, 47)\t0.07579892499568072\n",
      "  (1, 95)\t0.07579892499568072\n",
      "  (1, 38)\t0.07579892499568072\n",
      "  (1, 45)\t0.15159784999136144\n",
      "  (1, 125)\t0.07579892499568072\n",
      "  (1, 107)\t0.07579892499568072\n",
      "  (1, 96)\t0.07579892499568072\n",
      "  (1, 122)\t0.07579892499568072\n",
      "  (1, 81)\t0.07579892499568072\n",
      "  (1, 58)\t0.07579892499568072\n",
      "  (1, 97)\t0.07579892499568072\n",
      "  (1, 42)\t0.07579892499568072\n",
      "  (1, 100)\t0.07579892499568072\n",
      "  (1, 113)\t0.45479354997408433\n",
      "  (1, 21)\t0.05393155942356361\n",
      "  (1, 52)\t0.05393155942356361\n",
      "  (1, 76)\t0.05393155942356361\n",
      "  (1, 80)\t0.05393155942356361\n",
      "  (1, 70)\t0.05393155942356361\n",
      "  (1, 120)\t0.05393155942356361\n",
      "  (1, 48)\t0.05393155942356361\n",
      "  (1, 65)\t0.05393155942356361\n",
      "(2, 134)\n",
      "['app' 'apple' 'apple의' 'atm에서' 'homepod' 'icloud가' 'id' 'ilife' 'inc는'\n",
      " 'ios' 'ipad' 'iphone' 'ipod' 'itunes' 'iwork' 'mac' 'macos' 'safari'\n",
      " 'store' 'tv' 'watch' '갈증을' '갖는다' '갖습니다' '같은' '개발' '개인용' '개인의' '거래에' '것과'\n",
      " '고객' '교환하는' '구매' '구매를' '구매하는' '그러나' '금융' '기술' '기타' '기프트' '다국적' '다양한'\n",
      " '데이터를' '돈을' '디지털' '또는' '로열티' '만들' '매일' '명함은' '명함이' '목적으로' '문학적' '미국의'\n",
      " '미디어' '보상을' '본사를' '브라우저' '사용되는' '사용되며' '사용됩니다' '사용할' '상품이나' '생산성' '서비스'\n",
      " '서비스를' '서비스에는' '설계' '소매업체나' '소비자' '소설을' '소프트웨어' '소프트웨어에는' '스마트' '스마트워치'\n",
      " '스마트폰' '스스로' '스피커가' '신용' '신원을' '써내려가면서' '얇고' '연락처' '온라인' '용도로' '운영' '유형의'\n",
      " '인출하는' '일반적으로' '일반적인' '있고' '있습니다' '있으며' '자긍심을' '자긍심을을' '재료로' '재료입니다'\n",
      " '저장하는' '전문적인' '전자' '정보나' '정보를' '제공업체로부터' '제공하는' '제품' '제품군이' '제품에는' '종이'\n",
      " '직불' '창의성' '체제' '추적하고' '카드' '카드는' '카드로는' '캘리포니아' '컴퓨터' '쿠퍼티노에' '태블릿' '특정'\n",
      " '틈틈이' '판매하는' '평평한' '포인트' '포함됩니다' '플라스틱' '플레이어' '하드웨어' '해소하며' '해소하면서'\n",
      " '확인하는' '회사의' '회사입니다' '휴대용']\n"
     ]
    }
   ],
   "source": [
    "# 문서의 각단어별로 문서에 대한 정보를 얼마나 갖고 있느냐를 뜻하는 값\n",
    "# (a,b)는 array로 만들었을 때 각 뒤에 나오는 tf-idf 값의 위치(단어사전에서의 key값)\n",
    "print(tfidf_matrix)\n",
    "# (a,b) a는 target을 포함한 전체문서의 수, b는 전체문서에서 정해진 단어 사전의 key값의 총합\n",
    "print(tfidf_matrix.shape)\n",
    "print(tfidf.get_feature_names_out()) # 단어사전\n"
   ]
  },
  {
   "cell_type": "markdown",
   "metadata": {},
   "source": [
    "--------"
   ]
  },
  {
   "attachments": {},
   "cell_type": "markdown",
   "metadata": {},
   "source": [
    "#### 3-1. 코사인 유사도"
   ]
  },
  {
   "cell_type": "code",
   "execution_count": 25,
   "metadata": {},
   "outputs": [],
   "source": [
    "cosine_sim = linear_kernel(tfidf_matrix, tfidf_matrix)"
   ]
  },
  {
   "cell_type": "code",
   "execution_count": 26,
   "metadata": {},
   "outputs": [
    {
     "name": "stdout",
     "output_type": "stream",
     "text": [
      "[[1.         0.02691893]\n",
      " [0.02691893 1.        ]]\n"
     ]
    }
   ],
   "source": [
    "print(cosine_sim)"
   ]
  },
  {
   "cell_type": "code",
   "execution_count": 27,
   "metadata": {},
   "outputs": [],
   "source": [
    "sim_scores = list(enumerate(cosine_sim[index]))\n"
   ]
  },
  {
   "cell_type": "code",
   "execution_count": 28,
   "metadata": {},
   "outputs": [
    {
     "name": "stdout",
     "output_type": "stream",
     "text": [
      "[(0, 1.000000000000002), (1, 0.026918930361656802)]\n"
     ]
    }
   ],
   "source": [
    "print(sim_scores)"
   ]
  },
  {
   "cell_type": "code",
   "execution_count": 29,
   "metadata": {},
   "outputs": [
    {
     "name": "stdout",
     "output_type": "stream",
     "text": [
      "제목 없는 문서 (2).docx 1.000000000000002\n",
      "제목 없는 문서 (3).docx 0.026918930361656802\n"
     ]
    },
    {
     "name": "stderr",
     "output_type": "stream",
     "text": [
      "C:\\Users\\user\\AppData\\Local\\Temp\\ipykernel_5828\\2181676359.py:3: SettingWithCopyWarning: \n",
      "A value is trying to be set on a copy of a slice from a DataFrame\n",
      "\n",
      "See the caveats in the documentation: https://pandas.pydata.org/pandas-docs/stable/user_guide/indexing.html#returning-a-view-versus-a-copy\n",
      "  df['cos_sim'].loc[num_content] = sim_scores[num_content][1]\n"
     ]
    }
   ],
   "source": [
    "for num_content in range(len(df)):\n",
    "    print(df.iloc[num_content]['title'], sim_scores[num_content][1])\n",
    "    df['cos_sim'].loc[num_content] = sim_scores[num_content][1]"
   ]
  },
  {
   "cell_type": "code",
   "execution_count": 30,
   "metadata": {},
   "outputs": [],
   "source": [
    "# sim_scores = sorted(sim_scores, key=lambda x:x[1], reverse=True)\n",
    "# for key, score in sim_scores :\n",
    "#     if score > base :\n",
    "#         print(df.iloc[key]['title'], score)"
   ]
  },
  {
   "cell_type": "code",
   "execution_count": 31,
   "metadata": {},
   "outputs": [
    {
     "data": {
      "text/html": [
       "<div>\n",
       "<style scoped>\n",
       "    .dataframe tbody tr th:only-of-type {\n",
       "        vertical-align: middle;\n",
       "    }\n",
       "\n",
       "    .dataframe tbody tr th {\n",
       "        vertical-align: top;\n",
       "    }\n",
       "\n",
       "    .dataframe thead th {\n",
       "        text-align: right;\n",
       "    }\n",
       "</style>\n",
       "<table border=\"1\" class=\"dataframe\">\n",
       "  <thead>\n",
       "    <tr style=\"text-align: right;\">\n",
       "      <th></th>\n",
       "      <th>title</th>\n",
       "      <th>content</th>\n",
       "      <th>extension</th>\n",
       "      <th>cos_sim</th>\n",
       "      <th>euc_dis</th>\n",
       "      <th>jac_sim</th>\n",
       "    </tr>\n",
       "  </thead>\n",
       "  <tbody>\n",
       "    <tr>\n",
       "      <th>0</th>\n",
       "      <td>제목 없는 문서 (2).docx</td>\n",
       "      <td>Apple Inc는 소비자 전자 제품 컴퓨터 소프트웨어 및 온라인 서비스를 설계 개...</td>\n",
       "      <td>docx</td>\n",
       "      <td>1.000000</td>\n",
       "      <td>NaN</td>\n",
       "      <td>NaN</td>\n",
       "    </tr>\n",
       "    <tr>\n",
       "      <th>1</th>\n",
       "      <td>제목 없는 문서 (3).docx</td>\n",
       "      <td>카드는 정보나 데이터를 저장하는 데 사용되는 얇고 평평한 재료입니다 카드는 종이 플...</td>\n",
       "      <td>docx</td>\n",
       "      <td>0.026919</td>\n",
       "      <td>NaN</td>\n",
       "      <td>NaN</td>\n",
       "    </tr>\n",
       "  </tbody>\n",
       "</table>\n",
       "</div>"
      ],
      "text/plain": [
       "               title                                            content  \\\n",
       "0  제목 없는 문서 (2).docx  Apple Inc는 소비자 전자 제품 컴퓨터 소프트웨어 및 온라인 서비스를 설계 개...   \n",
       "1  제목 없는 문서 (3).docx  카드는 정보나 데이터를 저장하는 데 사용되는 얇고 평평한 재료입니다 카드는 종이 플...   \n",
       "\n",
       "  extension   cos_sim  euc_dis  jac_sim  \n",
       "0      docx  1.000000      NaN      NaN  \n",
       "1      docx  0.026919      NaN      NaN  "
      ]
     },
     "execution_count": 31,
     "metadata": {},
     "output_type": "execute_result"
    }
   ],
   "source": [
    "df"
   ]
  },
  {
   "cell_type": "markdown",
   "metadata": {},
   "source": [
    "------------"
   ]
  },
  {
   "attachments": {},
   "cell_type": "markdown",
   "metadata": {},
   "source": [
    "#### 3-2. 유클리드 거리"
   ]
  },
  {
   "cell_type": "code",
   "execution_count": 32,
   "metadata": {},
   "outputs": [],
   "source": [
    "# 거리값이 무한정 커지는 것을 방지하기 위한 L1 정규화\n",
    "# L1 정규화는 각 벡터안의 요소값을 모두 더한 것이 크기가 1이 되도록 벡터들의 크기를 조절하는 방법\n",
    "def l1_normalize(v):\n",
    "    norm = np.sum(v)\n",
    "    return v / norm"
   ]
  },
  {
   "cell_type": "code",
   "execution_count": 33,
   "metadata": {},
   "outputs": [],
   "source": [
    "tfidf_norm_l1 = l1_normalize(tfidf_matrix)"
   ]
  },
  {
   "cell_type": "code",
   "execution_count": 34,
   "metadata": {},
   "outputs": [
    {
     "name": "stdout",
     "output_type": "stream",
     "text": [
      "  (0, 22)\t0.006136802626477229\n",
      "  (0, 93)\t0.006136802626477229\n",
      "  (0, 128)\t0.006136802626477229\n",
      "  (0, 21)\t0.0043663856121890585\n",
      "  (0, 52)\t0.0043663856121890585\n",
      "  (0, 76)\t0.0043663856121890585\n",
      "  (0, 80)\t0.0043663856121890585\n",
      "  (0, 70)\t0.0043663856121890585\n",
      "  (0, 120)\t0.0043663856121890585\n",
      "  (0, 48)\t0.0043663856121890585\n",
      "  (0, 5)\t0.006136802626477229\n",
      "  (0, 0)\t0.012273605252954458\n",
      "  (0, 18)\t0.018410407879431684\n",
      "  (0, 66)\t0.006136802626477229\n",
      "  (0, 105)\t0.006136802626477229\n",
      "  (0, 63)\t0.006136802626477229\n",
      "  (0, 109)\t0.006136802626477229\n",
      "  (0, 7)\t0.006136802626477229\n",
      "  (0, 14)\t0.006136802626477229\n",
      "  (0, 57)\t0.006136802626477229\n",
      "  (0, 17)\t0.006136802626477229\n",
      "  (0, 13)\t0.012273605252954458\n",
      "  (0, 110)\t0.006136802626477229\n",
      "  (0, 85)\t0.006136802626477229\n",
      "  (0, 9)\t0.012273605252954458\n",
      "  :\t:\n",
      "  (1, 84)\t0.00530469354705394\n",
      "  (1, 41)\t0.00530469354705394\n",
      "  (1, 92)\t0.00530469354705394\n",
      "  (1, 47)\t0.00530469354705394\n",
      "  (1, 95)\t0.00530469354705394\n",
      "  (1, 38)\t0.00530469354705394\n",
      "  (1, 45)\t0.01060938709410788\n",
      "  (1, 125)\t0.00530469354705394\n",
      "  (1, 107)\t0.00530469354705394\n",
      "  (1, 96)\t0.00530469354705394\n",
      "  (1, 122)\t0.00530469354705394\n",
      "  (1, 81)\t0.00530469354705394\n",
      "  (1, 58)\t0.00530469354705394\n",
      "  (1, 97)\t0.00530469354705394\n",
      "  (1, 42)\t0.00530469354705394\n",
      "  (1, 100)\t0.00530469354705394\n",
      "  (1, 113)\t0.031828161282323644\n",
      "  (1, 21)\t0.0037743331488281186\n",
      "  (1, 52)\t0.0037743331488281186\n",
      "  (1, 76)\t0.0037743331488281186\n",
      "  (1, 80)\t0.0037743331488281186\n",
      "  (1, 70)\t0.0037743331488281186\n",
      "  (1, 120)\t0.0037743331488281186\n",
      "  (1, 48)\t0.0037743331488281186\n",
      "  (1, 65)\t0.0037743331488281186\n"
     ]
    }
   ],
   "source": [
    "print(tfidf_norm_l1)"
   ]
  },
  {
   "cell_type": "code",
   "execution_count": 35,
   "metadata": {},
   "outputs": [
    {
     "name": "stdout",
     "output_type": "stream",
     "text": [
      "제목 없는 문서 (2).docx 0.0\n",
      "제목 없는 문서 (3).docx 0.09763078091339847\n"
     ]
    },
    {
     "name": "stderr",
     "output_type": "stream",
     "text": [
      "C:\\Users\\user\\AppData\\Local\\Temp\\ipykernel_5828\\743567586.py:4: SettingWithCopyWarning: \n",
      "A value is trying to be set on a copy of a slice from a DataFrame\n",
      "\n",
      "See the caveats in the documentation: https://pandas.pydata.org/pandas-docs/stable/user_guide/indexing.html#returning-a-view-versus-a-copy\n",
      "  df['euc_dis'].loc[num_content] = np.ravel(dist, order='C')[0]\n"
     ]
    }
   ],
   "source": [
    "for num_content in range(len(df)):\n",
    "    dist = euclidean_distances(tfidf_norm_l1[index], tfidf_norm_l1[num_content])\n",
    "    print(df.iloc[num_content]['title'], np.ravel(dist, order='C')[0])\n",
    "    df['euc_dis'].loc[num_content] = np.ravel(dist, order='C')[0]"
   ]
  },
  {
   "cell_type": "code",
   "execution_count": 36,
   "metadata": {},
   "outputs": [
    {
     "data": {
      "text/html": [
       "<div>\n",
       "<style scoped>\n",
       "    .dataframe tbody tr th:only-of-type {\n",
       "        vertical-align: middle;\n",
       "    }\n",
       "\n",
       "    .dataframe tbody tr th {\n",
       "        vertical-align: top;\n",
       "    }\n",
       "\n",
       "    .dataframe thead th {\n",
       "        text-align: right;\n",
       "    }\n",
       "</style>\n",
       "<table border=\"1\" class=\"dataframe\">\n",
       "  <thead>\n",
       "    <tr style=\"text-align: right;\">\n",
       "      <th></th>\n",
       "      <th>title</th>\n",
       "      <th>content</th>\n",
       "      <th>extension</th>\n",
       "      <th>cos_sim</th>\n",
       "      <th>euc_dis</th>\n",
       "      <th>jac_sim</th>\n",
       "    </tr>\n",
       "  </thead>\n",
       "  <tbody>\n",
       "    <tr>\n",
       "      <th>0</th>\n",
       "      <td>제목 없는 문서 (2).docx</td>\n",
       "      <td>Apple Inc는 소비자 전자 제품 컴퓨터 소프트웨어 및 온라인 서비스를 설계 개...</td>\n",
       "      <td>docx</td>\n",
       "      <td>1.000000</td>\n",
       "      <td>0.000000</td>\n",
       "      <td>NaN</td>\n",
       "    </tr>\n",
       "    <tr>\n",
       "      <th>1</th>\n",
       "      <td>제목 없는 문서 (3).docx</td>\n",
       "      <td>카드는 정보나 데이터를 저장하는 데 사용되는 얇고 평평한 재료입니다 카드는 종이 플...</td>\n",
       "      <td>docx</td>\n",
       "      <td>0.026919</td>\n",
       "      <td>0.097631</td>\n",
       "      <td>NaN</td>\n",
       "    </tr>\n",
       "  </tbody>\n",
       "</table>\n",
       "</div>"
      ],
      "text/plain": [
       "               title                                            content  \\\n",
       "0  제목 없는 문서 (2).docx  Apple Inc는 소비자 전자 제품 컴퓨터 소프트웨어 및 온라인 서비스를 설계 개...   \n",
       "1  제목 없는 문서 (3).docx  카드는 정보나 데이터를 저장하는 데 사용되는 얇고 평평한 재료입니다 카드는 종이 플...   \n",
       "\n",
       "  extension   cos_sim   euc_dis  jac_sim  \n",
       "0      docx  1.000000  0.000000      NaN  \n",
       "1      docx  0.026919  0.097631      NaN  "
      ]
     },
     "execution_count": 36,
     "metadata": {},
     "output_type": "execute_result"
    }
   ],
   "source": [
    "df"
   ]
  },
  {
   "attachments": {},
   "cell_type": "markdown",
   "metadata": {},
   "source": [
    "-----------------------"
   ]
  },
  {
   "attachments": {},
   "cell_type": "markdown",
   "metadata": {},
   "source": [
    "#### 3-3. 자카드 유사도"
   ]
  },
  {
   "cell_type": "code",
   "execution_count": 37,
   "metadata": {},
   "outputs": [],
   "source": [
    "okt = Okt()"
   ]
  },
  {
   "cell_type": "code",
   "execution_count": 38,
   "metadata": {},
   "outputs": [],
   "source": [
    "target = okt.morphs(df['content'][index])"
   ]
  },
  {
   "cell_type": "code",
   "execution_count": 39,
   "metadata": {},
   "outputs": [
    {
     "name": "stdout",
     "output_type": "stream",
     "text": [
      "제목 없는 문서 (2).docx 1.0\n",
      "제목 없는 문서 (3).docx 0.16025641025641027\n"
     ]
    },
    {
     "name": "stderr",
     "output_type": "stream",
     "text": [
      "C:\\Users\\user\\AppData\\Local\\Temp\\ipykernel_5828\\647782823.py:10: SettingWithCopyWarning: \n",
      "A value is trying to be set on a copy of a slice from a DataFrame\n",
      "\n",
      "See the caveats in the documentation: https://pandas.pydata.org/pandas-docs/stable/user_guide/indexing.html#returning-a-view-versus-a-copy\n",
      "  df['jac_sim'].loc[num_content] = jac_score\n"
     ]
    }
   ],
   "source": [
    "for num_content in range(len(df)):\n",
    "    compare = okt.morphs(df['content'][num_content])\n",
    "    union = set(target).union(set(compare))\n",
    "    # print('문서1과 문서2의 합집합 :',union)\n",
    "    intersection = set(target).intersection(set(compare))\n",
    "    # print('문서1과 문서2의 교집합 :',intersection)\n",
    "    # print(f'{num_content}번 text와의 자카드 유사도 :',len(intersection)/len(union))\n",
    "    jac_score = len(intersection)/len(union)\n",
    "    print(df.iloc[num_content]['title'], jac_score)\n",
    "    df['jac_sim'].loc[num_content] = jac_score\n"
   ]
  },
  {
   "attachments": {},
   "cell_type": "markdown",
   "metadata": {},
   "source": [
    "---------------"
   ]
  },
  {
   "cell_type": "markdown",
   "metadata": {},
   "source": [
    "-----------------"
   ]
  },
  {
   "cell_type": "markdown",
   "metadata": {},
   "source": [
    "## 4. 최종 OUTPUT"
   ]
  },
  {
   "cell_type": "code",
   "execution_count": 40,
   "metadata": {},
   "outputs": [
    {
     "data": {
      "text/html": [
       "<div>\n",
       "<style scoped>\n",
       "    .dataframe tbody tr th:only-of-type {\n",
       "        vertical-align: middle;\n",
       "    }\n",
       "\n",
       "    .dataframe tbody tr th {\n",
       "        vertical-align: top;\n",
       "    }\n",
       "\n",
       "    .dataframe thead th {\n",
       "        text-align: right;\n",
       "    }\n",
       "</style>\n",
       "<table border=\"1\" class=\"dataframe\">\n",
       "  <thead>\n",
       "    <tr style=\"text-align: right;\">\n",
       "      <th></th>\n",
       "      <th>title</th>\n",
       "      <th>content</th>\n",
       "      <th>extension</th>\n",
       "      <th>cos_sim</th>\n",
       "      <th>euc_dis</th>\n",
       "      <th>jac_sim</th>\n",
       "    </tr>\n",
       "  </thead>\n",
       "  <tbody>\n",
       "    <tr>\n",
       "      <th>0</th>\n",
       "      <td>제목 없는 문서 (2).docx</td>\n",
       "      <td>Apple Inc는 소비자 전자 제품 컴퓨터 소프트웨어 및 온라인 서비스를 설계 개...</td>\n",
       "      <td>docx</td>\n",
       "      <td>1.000000</td>\n",
       "      <td>0.000000</td>\n",
       "      <td>1.000000</td>\n",
       "    </tr>\n",
       "    <tr>\n",
       "      <th>1</th>\n",
       "      <td>제목 없는 문서 (3).docx</td>\n",
       "      <td>카드는 정보나 데이터를 저장하는 데 사용되는 얇고 평평한 재료입니다 카드는 종이 플...</td>\n",
       "      <td>docx</td>\n",
       "      <td>0.026919</td>\n",
       "      <td>0.097631</td>\n",
       "      <td>0.160256</td>\n",
       "    </tr>\n",
       "  </tbody>\n",
       "</table>\n",
       "</div>"
      ],
      "text/plain": [
       "               title                                            content  \\\n",
       "0  제목 없는 문서 (2).docx  Apple Inc는 소비자 전자 제품 컴퓨터 소프트웨어 및 온라인 서비스를 설계 개...   \n",
       "1  제목 없는 문서 (3).docx  카드는 정보나 데이터를 저장하는 데 사용되는 얇고 평평한 재료입니다 카드는 종이 플...   \n",
       "\n",
       "  extension   cos_sim   euc_dis   jac_sim  \n",
       "0      docx  1.000000  0.000000  1.000000  \n",
       "1      docx  0.026919  0.097631  0.160256  "
      ]
     },
     "execution_count": 40,
     "metadata": {},
     "output_type": "execute_result"
    }
   ],
   "source": [
    "# 최종 데이터프레임 (title, content, 확장자명, cos_sim, euc_dis, jac_sim)\n",
    "df"
   ]
  },
  {
   "cell_type": "code",
   "execution_count": null,
   "metadata": {},
   "outputs": [],
   "source": []
  },
  {
   "cell_type": "code",
   "execution_count": null,
   "metadata": {},
   "outputs": [],
   "source": []
  }
 ],
 "metadata": {
  "kernelspec": {
   "display_name": "base",
   "language": "python",
   "name": "python3"
  },
  "language_info": {
   "codemirror_mode": {
    "name": "ipython",
    "version": 3
   },
   "file_extension": ".py",
   "mimetype": "text/x-python",
   "name": "python",
   "nbconvert_exporter": "python",
   "pygments_lexer": "ipython3",
   "version": "3.9.12"
  },
  "orig_nbformat": 4,
  "vscode": {
   "interpreter": {
    "hash": "a077222d77dfe082b8f1dd562ad70e458ac2ab76993a0b248ab0476e32e9e8dd"
   }
  }
 },
 "nbformat": 4,
 "nbformat_minor": 2
}
