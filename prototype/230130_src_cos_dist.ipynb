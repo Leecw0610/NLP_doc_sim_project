{
 "cells": [
  {
   "cell_type": "code",
   "execution_count": 18,
   "metadata": {},
   "outputs": [
    {
     "ename": "UnicodeDecodeError",
     "evalue": "'utf-8' codec can't decode byte 0xd0 in position 0: invalid continuation byte",
     "output_type": "error",
     "traceback": [
      "\u001b[1;31m---------------------------------------------------------------------------\u001b[0m",
      "\u001b[1;31mUnicodeDecodeError\u001b[0m                        Traceback (most recent call last)",
      "\u001b[1;32mc:\\Users\\user\\Desktop\\Python\\Project\\Project3\\prototype\\230130_src_cos_dist.ipynb 셀 1\u001b[0m in \u001b[0;36m<cell line: 40>\u001b[1;34m()\u001b[0m\n\u001b[0;32m     <a href='vscode-notebook-cell:/c%3A/Users/user/Desktop/Python/Project/Project3/prototype/230130_src_cos_dist.ipynb#W0sZmlsZQ%3D%3D?line=35'>36</a>\u001b[0m \u001b[39mdef\u001b[39;00m \u001b[39mreadFile\u001b[39m(fileName):\n\u001b[0;32m     <a href='vscode-notebook-cell:/c%3A/Users/user/Desktop/Python/Project/Project3/prototype/230130_src_cos_dist.ipynb#W0sZmlsZQ%3D%3D?line=36'>37</a>\u001b[0m     \u001b[39mreturn\u001b[39;00m \u001b[39mopen\u001b[39m(\u001b[39m\"\u001b[39m\u001b[39mdata/\u001b[39m\u001b[39m\"\u001b[39m \u001b[39m+\u001b[39m fileName, \u001b[39m'\u001b[39m\u001b[39mr\u001b[39m\u001b[39m'\u001b[39m)\u001b[39m.\u001b[39mread()\n\u001b[1;32m---> <a href='vscode-notebook-cell:/c%3A/Users/user/Desktop/Python/Project/Project3/prototype/230130_src_cos_dist.ipynb#W0sZmlsZQ%3D%3D?line=39'>40</a>\u001b[0m text1 \u001b[39m=\u001b[39m readFile(\u001b[39m\"\u001b[39;49m\u001b[39mqweq.hwp\u001b[39;49m\u001b[39m\"\u001b[39;49m)\n\u001b[0;32m     <a href='vscode-notebook-cell:/c%3A/Users/user/Desktop/Python/Project/Project3/prototype/230130_src_cos_dist.ipynb#W0sZmlsZQ%3D%3D?line=40'>41</a>\u001b[0m text2 \u001b[39m=\u001b[39m readFile(\u001b[39m\"\u001b[39m\u001b[39mtarget.hwp\u001b[39m\u001b[39m\"\u001b[39m)\n\u001b[0;32m     <a href='vscode-notebook-cell:/c%3A/Users/user/Desktop/Python/Project/Project3/prototype/230130_src_cos_dist.ipynb#W0sZmlsZQ%3D%3D?line=42'>43</a>\u001b[0m vector1 \u001b[39m=\u001b[39m textToVector(text1)\n",
      "\u001b[1;32mc:\\Users\\user\\Desktop\\Python\\Project\\Project3\\prototype\\230130_src_cos_dist.ipynb 셀 1\u001b[0m in \u001b[0;36mreadFile\u001b[1;34m(fileName)\u001b[0m\n\u001b[0;32m     <a href='vscode-notebook-cell:/c%3A/Users/user/Desktop/Python/Project/Project3/prototype/230130_src_cos_dist.ipynb#W0sZmlsZQ%3D%3D?line=35'>36</a>\u001b[0m \u001b[39mdef\u001b[39;00m \u001b[39mreadFile\u001b[39m(fileName):\n\u001b[1;32m---> <a href='vscode-notebook-cell:/c%3A/Users/user/Desktop/Python/Project/Project3/prototype/230130_src_cos_dist.ipynb#W0sZmlsZQ%3D%3D?line=36'>37</a>\u001b[0m     \u001b[39mreturn\u001b[39;00m \u001b[39mopen\u001b[39;49m(\u001b[39m\"\u001b[39;49m\u001b[39mdata/\u001b[39;49m\u001b[39m\"\u001b[39;49m \u001b[39m+\u001b[39;49m fileName, \u001b[39m'\u001b[39;49m\u001b[39mr\u001b[39;49m\u001b[39m'\u001b[39;49m)\u001b[39m.\u001b[39;49mread()\n",
      "File \u001b[1;32mc:\\Users\\user\\anaconda3\\lib\\codecs.py:322\u001b[0m, in \u001b[0;36mBufferedIncrementalDecoder.decode\u001b[1;34m(self, input, final)\u001b[0m\n\u001b[0;32m    319\u001b[0m \u001b[39mdef\u001b[39;00m \u001b[39mdecode\u001b[39m(\u001b[39mself\u001b[39m, \u001b[39minput\u001b[39m, final\u001b[39m=\u001b[39m\u001b[39mFalse\u001b[39;00m):\n\u001b[0;32m    320\u001b[0m     \u001b[39m# decode input (taking the buffer into account)\u001b[39;00m\n\u001b[0;32m    321\u001b[0m     data \u001b[39m=\u001b[39m \u001b[39mself\u001b[39m\u001b[39m.\u001b[39mbuffer \u001b[39m+\u001b[39m \u001b[39minput\u001b[39m\n\u001b[1;32m--> 322\u001b[0m     (result, consumed) \u001b[39m=\u001b[39m \u001b[39mself\u001b[39;49m\u001b[39m.\u001b[39;49m_buffer_decode(data, \u001b[39mself\u001b[39;49m\u001b[39m.\u001b[39;49merrors, final)\n\u001b[0;32m    323\u001b[0m     \u001b[39m# keep undecoded input until the next call\u001b[39;00m\n\u001b[0;32m    324\u001b[0m     \u001b[39mself\u001b[39m\u001b[39m.\u001b[39mbuffer \u001b[39m=\u001b[39m data[consumed:]\n",
      "\u001b[1;31mUnicodeDecodeError\u001b[0m: 'utf-8' codec can't decode byte 0xd0 in position 0: invalid continuation byte"
     ]
    }
   ],
   "source": [
    "# Calculate document distance given two files\n",
    "# Uses cosine formula described on Wikipedia: https://en.wikipedia.org/wiki/Cosine_similarity\n",
    "# Based on implementation by vpekar: http://stackoverflow.com/q/15173225\n",
    "\n",
    "import math\n",
    "import re\n",
    "from collections import Counter\n",
    "\n",
    "# regular expression\n",
    "# \\w matches any alphanumeric character and the underscore\n",
    "# + causes the RE to match 1 or more repetitions of the preceding RE\n",
    "WORD = re.compile(r'\\w+')\n",
    "\n",
    "\n",
    "def textToVector(text):\n",
    "    words = WORD.findall(text)\n",
    "    # unordered collection where elements are stored as dict keys, and counts are stored as dict vals\n",
    "    return Counter(words)\n",
    "\n",
    "\n",
    "def cosDistance(vector1, vector2):\n",
    "    # set of unordered collection of unique items\n",
    "    intersection = set(vector1.keys()) & set(vector2.keys())  # return set with elements in intersection\n",
    "    numerator = sum([vector1[x] * vector2[x] for x in intersection])\n",
    "\n",
    "    sum1 = sum([vector1[x] ** 2 for x in vector1.keys()])\n",
    "    sum2 = sum([vector2[x] ** 2 for x in vector2.keys()])\n",
    "    denominator = math.sqrt(sum1) * math.sqrt(sum2)\n",
    "\n",
    "    if not denominator:\n",
    "        return 0.0\n",
    "    else:\n",
    "        return float(numerator) / denominator\n",
    "\n",
    "\n",
    "def readFile(fileName):\n",
    "    return open(\"data/\" + fileName, 'r').read()\n",
    "\n",
    "\n",
    "text1 = readFile(\"qweq.hwp\")\n",
    "text2 = readFile(\"target.hwp\")\n",
    "\n",
    "vector1 = textToVector(text1)\n",
    "vector2 = textToVector(text2)\n",
    "\n",
    "cosine = cosDistance(vector1, vector2)\n",
    "\n",
    "print(\"Cosine Distance:\\t\", cosine)"
   ]
  },
  {
   "cell_type": "code",
   "execution_count": 16,
   "metadata": {},
   "outputs": [
    {
     "data": {
      "text/plain": [
       "'c:\\\\Users\\\\user\\\\Desktop\\\\Python\\\\Project\\\\Project3\\\\prototype'"
      ]
     },
     "execution_count": 16,
     "metadata": {},
     "output_type": "execute_result"
    }
   ],
   "source": [
    "pwd"
   ]
  },
  {
   "cell_type": "code",
   "execution_count": 12,
   "metadata": {},
   "outputs": [],
   "source": [
    "word = '안녕하세요'\n",
    "\n",
    "pre_1 = re.compile(r'\\w+')"
   ]
  },
  {
   "cell_type": "code",
   "execution_count": 13,
   "metadata": {},
   "outputs": [],
   "source": [
    "words = pre_1.findall(word)"
   ]
  },
  {
   "cell_type": "code",
   "execution_count": 14,
   "metadata": {},
   "outputs": [
    {
     "name": "stdout",
     "output_type": "stream",
     "text": [
      "['안녕하세요']\n"
     ]
    }
   ],
   "source": [
    "print(words)"
   ]
  },
  {
   "cell_type": "code",
   "execution_count": null,
   "metadata": {},
   "outputs": [],
   "source": []
  },
  {
   "cell_type": "code",
   "execution_count": null,
   "metadata": {},
   "outputs": [],
   "source": []
  }
 ],
 "metadata": {
  "kernelspec": {
   "display_name": "base",
   "language": "python",
   "name": "python3"
  },
  "language_info": {
   "codemirror_mode": {
    "name": "ipython",
    "version": 3
   },
   "file_extension": ".py",
   "mimetype": "text/x-python",
   "name": "python",
   "nbconvert_exporter": "python",
   "pygments_lexer": "ipython3",
   "version": "3.9.12 (main, Apr  4 2022, 05:22:27) [MSC v.1916 64 bit (AMD64)]"
  },
  "orig_nbformat": 4,
  "vscode": {
   "interpreter": {
    "hash": "a077222d77dfe082b8f1dd562ad70e458ac2ab76993a0b248ab0476e32e9e8dd"
   }
  }
 },
 "nbformat": 4,
 "nbformat_minor": 2
}
